{
 "cells": [
  {
   "cell_type": "code",
   "execution_count": 6,
   "metadata": {},
   "outputs": [
    {
     "name": "stdout",
     "output_type": "stream",
     "text": [
      "End of file\n",
      "floor =  232\n"
     ]
    }
   ],
   "source": [
    "# part 1\n",
    "i=0\n",
    "with open('../inputs/day1.txt') as f:\n",
    "    while True:\n",
    "        c = f.read(1)\n",
    "        if not c:\n",
    "            print (\"End of file\")\n",
    "            break\n",
    "        else:\n",
    "            if c=='(':\n",
    "                i=i+1\n",
    "            else:\n",
    "                i=i-1\n",
    "print('floor = ', i)           "
   ]
  },
  {
   "cell_type": "code",
   "execution_count": 7,
   "metadata": {},
   "outputs": [
    {
     "name": "stdout",
     "output_type": "stream",
     "text": [
      "pos =  1783\n"
     ]
    }
   ],
   "source": [
    "# part 2\n",
    "i=0\n",
    "j=0\n",
    "with open('../inputs/day1.txt') as f:\n",
    "    while True:\n",
    "        c = f.read(1)\n",
    "        j=j+1\n",
    "        if not c:\n",
    "            print (\"End of file\")\n",
    "            break\n",
    "        else:\n",
    "            if c=='(':\n",
    "                i=i+1\n",
    "            else:\n",
    "                i=i-1\n",
    "            if i == -1:\n",
    "                print('pos = ', j)\n",
    "                break\n",
    "                "
   ]
  },
  {
   "cell_type": "code",
   "execution_count": null,
   "metadata": {},
   "outputs": [],
   "source": []
  }
 ],
 "metadata": {
  "kernelspec": {
   "display_name": "Python (3.5.2)",
   "language": "python",
   "name": "python352"
  },
  "language_info": {
   "codemirror_mode": {
    "name": "ipython",
    "version": 3
   },
   "file_extension": ".py",
   "mimetype": "text/x-python",
   "name": "python",
   "nbconvert_exporter": "python",
   "pygments_lexer": "ipython3",
   "version": "3.5.2"
  }
 },
 "nbformat": 4,
 "nbformat_minor": 2
}
