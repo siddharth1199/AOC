{
 "cells": [
  {
   "cell_type": "code",
   "execution_count": 49,
   "metadata": {},
   "outputs": [],
   "source": [
    "import pandas as pd\n",
    "df = pd.read_csv('../inputs/day2.txt', sep='x', names=['len', 'wid', 'hei'])"
   ]
  },
  {
   "cell_type": "code",
   "execution_count": 66,
   "metadata": {},
   "outputs": [
    {
     "name": "stdout",
     "output_type": "stream",
     "text": [
      "Wrapping paper 1588178\n"
     ]
    }
   ],
   "source": [
    "# Part 1\n",
    "\n",
    "print('Wrapping paper len = ', sum((2*df['len']*df['wid']) + (2*df['len']*df['hei']) + (2*df['hei']*df['wid']) +\n",
    "   pd.concat([(df['len']*df['wid']), (df['len']*df['hei']), (df['hei']*df['wid'])], axis=1).min(axis=1)))"
   ]
  },
  {
   "cell_type": "code",
   "execution_count": 67,
   "metadata": {},
   "outputs": [
    {
     "name": "stdout",
     "output_type": "stream",
     "text": [
      "Ribbon length =  3783758\n"
     ]
    }
   ],
   "source": [
    "# Part 2\n",
    "print('Ribbon length = ', sum((df['len']*df['wid']*df['hei'])+\n",
    "    \n",
    "    (pd.concat([(df['len']+df['len']+df['hei']+df['hei']),\n",
    "                (df['hei']+df['hei']+df['wid']+df['wid']),\n",
    "                (df['wid']+df['wid']+df['len']+df['len'])], axis=1).min(axis=1))))"
   ]
  },
  {
   "cell_type": "code",
   "execution_count": null,
   "metadata": {},
   "outputs": [],
   "source": []
  }
 ],
 "metadata": {
  "kernelspec": {
   "display_name": "Python (3.5.2)",
   "language": "python",
   "name": "python352"
  },
  "language_info": {
   "codemirror_mode": {
    "name": "ipython",
    "version": 3
   },
   "file_extension": ".py",
   "mimetype": "text/x-python",
   "name": "python",
   "nbconvert_exporter": "python",
   "pygments_lexer": "ipython3",
   "version": "3.5.2"
  }
 },
 "nbformat": 4,
 "nbformat_minor": 2
}
